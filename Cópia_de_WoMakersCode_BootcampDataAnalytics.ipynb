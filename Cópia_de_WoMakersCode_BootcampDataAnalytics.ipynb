{
  "nbformat": 4,
  "nbformat_minor": 0,
  "metadata": {
    "colab": {
      "provenance": []
    },
    "kernelspec": {
      "name": "python3",
      "display_name": "Python 3"
    },
    "language_info": {
      "name": "python"
    }
  },
  "cells": [
    {
      "cell_type": "markdown",
      "source": [
        "1 ) Para determinar se um candidato está qualificado para uma vaga de emprego, são aplicados dois critérios:\n",
        "\n",
        "a) O candidato deve ter uma presença igual ou superior a 60% em um treinamento obrigatório.\n",
        "\n",
        "b) O candidato deve ter uma média de desempenho igual ou superior a 7 em uma série de testes.\n",
        "\n",
        "Para auxiliar na avaliação dos candidatos, você deve criar uma função que recebe uma lista de dicionários contendo o nome do candidato, a média de desempenho e a quantidade de horas de ausência do treinamento. Com esses dados, a função deve calcular se o candidato está qualificado ou não. A presença do candidato é calculada considerando que o treinamento teve um total de 60 horas e utilizando a fórmula:\n",
        "\n",
        "(Total horas - número de faltas)/Total horas * 100;\n"
      ],
      "metadata": {
        "id": "3UpM724I5C19"
      }
    },
    {
      "cell_type": "code",
      "source": [
        "def avaliar_candidatos(lista_candidatos):\n",
        "    for candidato in lista_candidatos:\n",
        "        presenca = ((60 - candidato['horas_ausencia']) / 60) * 100\n",
        "        if presenca >= 60 and candidato['media_desempenho'] >= 7:\n",
        "            print(f\"{candidato['nome']} está qualificado.\")\n",
        "        else:\n",
        "            print(f\"{candidato['nome']} não está qualificado.\")\n",
        "\n",
        "\n",
        "candidatos = [\n",
        "    {'nome': 'João', 'media_desempenho': 8, 'horas_ausencia': 10},\n",
        "    {'nome': 'Maria', 'media_desempenho': 6, 'horas_ausencia': 5},\n",
        "\n",
        "]\n",
        "\n",
        "avaliar_candidatos(candidatos)\n"
      ],
      "metadata": {
        "id": "Xv1MnjPQvkSt",
        "outputId": "a81636e9-be23-492a-8ee6-ec1ca7346b6a",
        "colab": {
          "base_uri": "https://localhost:8080/"
        }
      },
      "execution_count": null,
      "outputs": [
        {
          "output_type": "stream",
          "name": "stdout",
          "text": [
            "João está qualificado.\n",
            "Maria não está qualificado.\n"
          ]
        }
      ]
    },
    {
      "cell_type": "markdown",
      "source": [],
      "metadata": {
        "id": "7slCgFJtKMHD"
      }
    },
    {
      "cell_type": "markdown",
      "source": [
        "2) Crie uma função que recebe uma palavra (string), separa todos os caracteres em uma lista, retorna esta lista e quantidade de letras."
      ],
      "metadata": {
        "id": "fKKdyWo55e8w"
      }
    },
    {
      "cell_type": "code",
      "source": [
        "def separar_caracteres(palavra):\n",
        "    lista_caracteres = list(palavra)\n",
        "    quantidade_letras = sum(c.isalpha() for c in lista_caracteres)\n",
        "    return lista_caracteres, quantidade_letras\n",
        "\n",
        "\n",
        "palavra_exemplo = \"Python123\"\n",
        "caracteres, qtd_letras = separar_caracteres(palavra_exemplo)\n",
        "\n",
        "print(f\"Lista de caracteres: {caracteres}\")\n",
        "print(f\"Quantidade de letras: {qtd_letras}\")\n",
        "\n"
      ],
      "metadata": {
        "id": "Qq7QoqubvjbG",
        "outputId": "b4a6b741-a6ba-4a0b-c2ec-7228dab18a59",
        "colab": {
          "base_uri": "https://localhost:8080/"
        }
      },
      "execution_count": null,
      "outputs": [
        {
          "output_type": "stream",
          "name": "stdout",
          "text": [
            "Lista de caracteres: ['P', 'y', 't', 'h', 'o', 'n', '1', '2', '3']\n",
            "Quantidade de letras: 6\n"
          ]
        }
      ]
    },
    {
      "cell_type": "markdown",
      "source": [
        "3) Crie um programa que leia quanto dinheiro uma pessoa tem na carteira, e calcule quanto poderia comprar de cada moeda estrangeira. Considere a tabela de conversão abaixo:\n",
        "\n",
        "Valor convertido em real:\n",
        "*   Dólar Americano: 4,91\n",
        "*   Peso Argentino: 0,02\n",
        "*   Dólar Australiano: 3,18\n",
        "*   Dólar Canadense: 3,64\n",
        "*   Franco Suiço: 0,42\n",
        "*   Euro:  5,36\n",
        "*   Libra esterlina: 6,21\n",
        "\n",
        "\n",
        "\n",
        "\n",
        "\n",
        "\n",
        "\n"
      ],
      "metadata": {
        "id": "EEXxWdjH5sju"
      }
    },
    {
      "cell_type": "code",
      "source": [
        "def converter_moeda(valor_real, taxa_conversao):\n",
        "    return valor_real * taxa_conversao\n",
        "\n",
        "def main():\n",
        "    valor_carteira = 5000\n",
        "\n",
        "    moedas = {\n",
        "        'Dólar Americano': 4.91,\n",
        "        'Peso Argentino': 0.02,\n",
        "        'Dólar Australiano': 3.18,\n",
        "        'Dólar Canadense': 3.64,\n",
        "        'Franco Suiço': 0.42,\n",
        "        'Euro': 5.36,\n",
        "        'Libra esterlina': 6.21\n",
        "    }\n",
        "\n",
        "    print(\"\\nQuanto você poderia comprar de cada moeda estrangeira:\")\n",
        "    for moeda, taxa in moedas.items():\n",
        "        valor_convertido = converter_moeda(valor_carteira, taxa)\n",
        "        print(f\"{moeda}: {valor_convertido:.2f}\")\n",
        "\n",
        "if __name__ == \"__main__\":\n",
        "    main()\n",
        "\n"
      ],
      "metadata": {
        "id": "BFil1HpZvbFg",
        "outputId": "75293d8c-44c4-435a-ffeb-dc8bc9823c08",
        "colab": {
          "base_uri": "https://localhost:8080/"
        }
      },
      "execution_count": null,
      "outputs": [
        {
          "output_type": "stream",
          "name": "stdout",
          "text": [
            "\n",
            "Quanto você poderia comprar de cada moeda estrangeira:\n",
            "Dólar Americano: 24550.00\n",
            "Peso Argentino: 100.00\n",
            "Dólar Australiano: 15900.00\n",
            "Dólar Canadense: 18200.00\n",
            "Franco Suiço: 2100.00\n",
            "Euro: 26800.00\n",
            "Libra esterlina: 31050.00\n"
          ]
        }
      ]
    },
    {
      "cell_type": "markdown",
      "source": [
        "\n",
        "4) O chefe decidiu premiar os melhores funcionários de sua empresa com um brinde. Para isso ela vai entregar um brinde para todos os funcionários que tiverem uma performance superior a média da equipe.\n",
        "\n",
        "Elabore uma função que recebe uma lista de nome em formato de dict (dicionário) com nome do funcionário e a média do funcionário (Valor de 0 a 10). Esta função deve calcular a média da equipe, identificar quais funcionários tem média igual ou superior a média da equipe e retornar uma lista com o nome dos funcionários que possuem média igual ou superior a média da equipe. A ordem dos nomes da lista de retorno deve ser em ordem decrescente."
      ],
      "metadata": {
        "id": "Tj2Ds76-6FXs"
      }
    },
    {
      "cell_type": "code",
      "source": [
        "\n",
        "def funcionarios_acima_media(lista_funcionarios):\n",
        "\n",
        "    media_equipe = sum(funcionario['media'] for funcionario in lista_funcionarios) / len(lista_funcionarios)\n",
        "\n",
        "\n",
        "    acima_media = [funcionario['nome'] for funcionario in lista_funcionarios if funcionario['media'] >= media_equipe]\n",
        "\n",
        "    # Retorna a lista em ordem decrescente\n",
        "    return sorted(acima_media, reverse=True)\n",
        "\n",
        "\n",
        "funcionarios = [\n",
        "    {'nome': 'João', 'media': 8},\n",
        "    {'nome': 'Maria', 'media': 6},\n",
        "    {'nome': 'Carlos', 'media': 9},\n",
        "\n",
        "]\n",
        "\n",
        "resultado = funcionarios_acima_media(funcionarios)\n",
        "print(\"Funcionários com média igual ou superior à média da equipe:\", resultado)\n",
        "\n",
        "\n"
      ],
      "metadata": {
        "id": "poEG0mnOvgSO",
        "outputId": "27a5c8aa-447f-48a4-c692-5263abf3fd1b",
        "colab": {
          "base_uri": "https://localhost:8080/"
        }
      },
      "execution_count": null,
      "outputs": [
        {
          "output_type": "stream",
          "name": "stdout",
          "text": [
            "Funcionários com média igual ou superior à média da equipe: ['João', 'Carlos']\n"
          ]
        }
      ]
    },
    {
      "cell_type": "markdown",
      "source": [
        "5) Na variável países_ano, temos uma lista de listas, em que cada elemento é uma lista de dois elementos, em que o primeiro é o nome de um país e o segundo é o ano em que a nação foi fundada."
      ],
      "metadata": {
        "id": "pVSP5n1T_ZWQ"
      }
    },
    {
      "cell_type": "code",
      "source": [
        "lista_paises = [[\"Brasil\", \"1500\"],[\"Mexico\",\"1519\"], [\"Inglaterra\", \"927\"], [\"Espanha\",\"1978\"], [\"Escocia\", \"843\"]]"
      ],
      "metadata": {
        "id": "zRywrNff01he"
      },
      "execution_count": null,
      "outputs": []
    },
    {
      "cell_type": "markdown",
      "source": [
        "Você deseja criar uma nova lista de listas a partir do exemplo (lista_paises), em que cada elemento é uma lista de dois elementos, sendo o primeiro o nome do país (como é na lista original) e o segundo é o número de anos desde a fundação do país (considere que o ano atual é 2023)."
      ],
      "metadata": {
        "id": "OpU-UWXC01Ca"
      }
    },
    {
      "cell_type": "code",
      "source": [
        "from datetime import datetime\n",
        "\n",
        "\n",
        "lista_paises = [[\"Brasil\", \"1500\"], [\"Mexico\", \"1519\"], [\"Inglaterra\", \"927\"], [\"Espanha\", \"1978\"], [\"Escocia\", \"843\"]]\n",
        "\n",
        "\n",
        "ano_atual = 2023\n",
        "\n",
        "\n",
        "nova_lista_paises = []\n",
        "\n",
        "for pais, ano_fundacao in lista_paises:\n",
        "    anos_desde_fundacao = ano_atual - int(ano_fundacao)\n",
        "    nova_lista_paises.append([pais, anos_desde_fundacao])\n",
        "\n",
        "\n",
        "print(nova_lista_paises)\n"
      ],
      "metadata": {
        "id": "xaEQxcMFvhVa",
        "outputId": "36e74698-7c9f-4a6a-fcc1-0d91d237a615",
        "colab": {
          "base_uri": "https://localhost:8080/"
        }
      },
      "execution_count": null,
      "outputs": [
        {
          "output_type": "stream",
          "name": "stdout",
          "text": [
            "[['Brasil', 523], ['Mexico', 504], ['Inglaterra', 1096], ['Espanha', 45], ['Escocia', 1180]]\n"
          ]
        }
      ]
    },
    {
      "cell_type": "markdown",
      "source": [
        "6) Um jogador de um jogo de vídeo game deseja subir de nível em seu personagem ao atingir 50 inimigos derrotados. Enquanto esse número não é alcançado, uma mensagem indicando quantos inimigos ainda faltam é exibida na tela.\n"
      ],
      "metadata": {
        "id": "_qb748YiCzh-"
      }
    },
    {
      "cell_type": "code",
      "source": [
        "inimigos_derrotados = 0\n",
        "nivel = 0\n",
        "\n",
        "while (inimigos_derrotados < 50):\n",
        "\n",
        "    print(f\"Faltam {50 - inimigos_derrotados} inimigos para você mudar de nível!\")\n",
        "\n",
        "    inimigos_derrotados += 1\n",
        "\n",
        "\n",
        "print(\"\\nVocê atingiu o próximo nível!\")\n",
        "nivel = 1"
      ],
      "metadata": {
        "id": "wooL40fJi_gj",
        "outputId": "f692e224-4d41-4e0b-afca-bb9fb0d8d09c",
        "colab": {
          "base_uri": "https://localhost:8080/"
        }
      },
      "execution_count": null,
      "outputs": [
        {
          "output_type": "stream",
          "name": "stdout",
          "text": [
            "Faltam 50 inimigos para você mudar de nível!\n",
            "Faltam 49 inimigos para você mudar de nível!\n",
            "Faltam 48 inimigos para você mudar de nível!\n",
            "Faltam 47 inimigos para você mudar de nível!\n",
            "Faltam 46 inimigos para você mudar de nível!\n",
            "Faltam 45 inimigos para você mudar de nível!\n",
            "Faltam 44 inimigos para você mudar de nível!\n",
            "Faltam 43 inimigos para você mudar de nível!\n",
            "Faltam 42 inimigos para você mudar de nível!\n",
            "Faltam 41 inimigos para você mudar de nível!\n",
            "Faltam 40 inimigos para você mudar de nível!\n",
            "Faltam 39 inimigos para você mudar de nível!\n",
            "Faltam 38 inimigos para você mudar de nível!\n",
            "Faltam 37 inimigos para você mudar de nível!\n",
            "Faltam 36 inimigos para você mudar de nível!\n",
            "Faltam 35 inimigos para você mudar de nível!\n",
            "Faltam 34 inimigos para você mudar de nível!\n",
            "Faltam 33 inimigos para você mudar de nível!\n",
            "Faltam 32 inimigos para você mudar de nível!\n",
            "Faltam 31 inimigos para você mudar de nível!\n",
            "Faltam 30 inimigos para você mudar de nível!\n",
            "Faltam 29 inimigos para você mudar de nível!\n",
            "Faltam 28 inimigos para você mudar de nível!\n",
            "Faltam 27 inimigos para você mudar de nível!\n",
            "Faltam 26 inimigos para você mudar de nível!\n",
            "Faltam 25 inimigos para você mudar de nível!\n",
            "Faltam 24 inimigos para você mudar de nível!\n",
            "Faltam 23 inimigos para você mudar de nível!\n",
            "Faltam 22 inimigos para você mudar de nível!\n",
            "Faltam 21 inimigos para você mudar de nível!\n",
            "Faltam 20 inimigos para você mudar de nível!\n",
            "Faltam 19 inimigos para você mudar de nível!\n",
            "Faltam 18 inimigos para você mudar de nível!\n",
            "Faltam 17 inimigos para você mudar de nível!\n",
            "Faltam 16 inimigos para você mudar de nível!\n",
            "Faltam 15 inimigos para você mudar de nível!\n",
            "Faltam 14 inimigos para você mudar de nível!\n",
            "Faltam 13 inimigos para você mudar de nível!\n",
            "Faltam 12 inimigos para você mudar de nível!\n",
            "Faltam 11 inimigos para você mudar de nível!\n",
            "Faltam 10 inimigos para você mudar de nível!\n",
            "Faltam 9 inimigos para você mudar de nível!\n",
            "Faltam 8 inimigos para você mudar de nível!\n",
            "Faltam 7 inimigos para você mudar de nível!\n",
            "Faltam 6 inimigos para você mudar de nível!\n",
            "Faltam 5 inimigos para você mudar de nível!\n",
            "Faltam 4 inimigos para você mudar de nível!\n",
            "Faltam 3 inimigos para você mudar de nível!\n",
            "Faltam 2 inimigos para você mudar de nível!\n",
            "Faltam 1 inimigos para você mudar de nível!\n",
            "\n",
            "Você atingiu o próximo nível!\n"
          ]
        }
      ]
    }
  ]
}